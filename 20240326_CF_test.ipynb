{
 "cells": [
  {
   "cell_type": "markdown",
   "metadata": {},
   "source": [
    "# Coline FOUCHE \n",
    "### Mars 2024\n",
    "### Test technique - données NeurIPS"
   ]
  },
  {
   "cell_type": "markdown",
   "metadata": {},
   "source": [
    "#### Packages et chemins"
   ]
  },
  {
   "cell_type": "code",
   "execution_count": 1,
   "metadata": {},
   "outputs": [],
   "source": [
    "# Packages utilisés dans ce notebook\n",
    "import os\n",
    "import pandas as pd\n",
    "\n",
    "import networkx as nx\n",
    "from networkx.algorithms.community.centrality import girvan_newman\n",
    "\n",
    "import matplotlib\n",
    "import matplotlib.pyplot as plt\n",
    "\n",
    "import pyvis\n",
    "from pyvis.network import Network "
   ]
  },
  {
   "cell_type": "code",
   "execution_count": 2,
   "metadata": {},
   "outputs": [],
   "source": [
    "# Chemin local\n",
    "local_path = \"C:\\\\Users\\\\Coline\\\\Downloads\\\\CF_test_technique\"\n",
    "local_data_path = os.path.join(local_path, \"0_Data\")"
   ]
  },
  {
   "cell_type": "markdown",
   "metadata": {},
   "source": [
    "#### Import des données"
   ]
  },
  {
   "cell_type": "code",
   "execution_count": 3,
   "metadata": {},
   "outputs": [
    {
     "name": "stdout",
     "output_type": "stream",
     "text": [
      "id       int64\n",
      "name    object\n",
      "dtype: object\n"
     ]
    },
    {
     "data": {
      "text/html": [
       "<div>\n",
       "<style scoped>\n",
       "    .dataframe tbody tr th:only-of-type {\n",
       "        vertical-align: middle;\n",
       "    }\n",
       "\n",
       "    .dataframe tbody tr th {\n",
       "        vertical-align: top;\n",
       "    }\n",
       "\n",
       "    .dataframe thead th {\n",
       "        text-align: right;\n",
       "    }\n",
       "</style>\n",
       "<table border=\"1\" class=\"dataframe\">\n",
       "  <thead>\n",
       "    <tr style=\"text-align: right;\">\n",
       "      <th></th>\n",
       "      <th>id</th>\n",
       "      <th>name</th>\n",
       "    </tr>\n",
       "  </thead>\n",
       "  <tbody>\n",
       "    <tr>\n",
       "      <th>0</th>\n",
       "      <td>1</td>\n",
       "      <td>Hisashi Suzuki</td>\n",
       "    </tr>\n",
       "    <tr>\n",
       "      <th>1</th>\n",
       "      <td>10</td>\n",
       "      <td>David Brady</td>\n",
       "    </tr>\n",
       "    <tr>\n",
       "      <th>2</th>\n",
       "      <td>100</td>\n",
       "      <td>Santosh S. Venkatesh</td>\n",
       "    </tr>\n",
       "    <tr>\n",
       "      <th>3</th>\n",
       "      <td>1000</td>\n",
       "      <td>Charles Fefferman</td>\n",
       "    </tr>\n",
       "    <tr>\n",
       "      <th>4</th>\n",
       "      <td>10000</td>\n",
       "      <td>Artur Speiser</td>\n",
       "    </tr>\n",
       "  </tbody>\n",
       "</table>\n",
       "</div>"
      ],
      "text/plain": [
       "      id                  name\n",
       "0      1        Hisashi Suzuki\n",
       "1     10           David Brady\n",
       "2    100  Santosh S. Venkatesh\n",
       "3   1000     Charles Fefferman\n",
       "4  10000         Artur Speiser"
      ]
     },
     "execution_count": 3,
     "metadata": {},
     "output_type": "execute_result"
    }
   ],
   "source": [
    "# Données auteurs : 1 ligne = 1 ID auteur\n",
    "df_authors = pd.read_csv(os.path.join(local_data_path, 'authors.csv'))\n",
    "print(df_authors.dtypes)\n",
    "df_authors.head()\n",
    "# à noter : problème d'encoding sur les caractères allemands dans le fichier (non corrigible au chargement)\n",
    "# ex : Bernhard Sch?lkopf, Klaus-Robert M?ller"
   ]
  },
  {
   "cell_type": "code",
   "execution_count": 4,
   "metadata": {},
   "outputs": [
    {
     "name": "stdout",
     "output_type": "stream",
     "text": [
      "id           int64\n",
      "paper_id     int64\n",
      "author_id    int64\n",
      "dtype: object\n"
     ]
    },
    {
     "data": {
      "text/html": [
       "<div>\n",
       "<style scoped>\n",
       "    .dataframe tbody tr th:only-of-type {\n",
       "        vertical-align: middle;\n",
       "    }\n",
       "\n",
       "    .dataframe tbody tr th {\n",
       "        vertical-align: top;\n",
       "    }\n",
       "\n",
       "    .dataframe thead th {\n",
       "        text-align: right;\n",
       "    }\n",
       "</style>\n",
       "<table border=\"1\" class=\"dataframe\">\n",
       "  <thead>\n",
       "    <tr style=\"text-align: right;\">\n",
       "      <th></th>\n",
       "      <th>id</th>\n",
       "      <th>paper_id</th>\n",
       "      <th>author_id</th>\n",
       "    </tr>\n",
       "  </thead>\n",
       "  <tbody>\n",
       "    <tr>\n",
       "      <th>0</th>\n",
       "      <td>1</td>\n",
       "      <td>63</td>\n",
       "      <td>94</td>\n",
       "    </tr>\n",
       "    <tr>\n",
       "      <th>1</th>\n",
       "      <td>2</td>\n",
       "      <td>80</td>\n",
       "      <td>124</td>\n",
       "    </tr>\n",
       "    <tr>\n",
       "      <th>2</th>\n",
       "      <td>3</td>\n",
       "      <td>80</td>\n",
       "      <td>125</td>\n",
       "    </tr>\n",
       "    <tr>\n",
       "      <th>3</th>\n",
       "      <td>4</td>\n",
       "      <td>80</td>\n",
       "      <td>126</td>\n",
       "    </tr>\n",
       "    <tr>\n",
       "      <th>4</th>\n",
       "      <td>5</td>\n",
       "      <td>80</td>\n",
       "      <td>127</td>\n",
       "    </tr>\n",
       "  </tbody>\n",
       "</table>\n",
       "</div>"
      ],
      "text/plain": [
       "   id  paper_id  author_id\n",
       "0   1        63         94\n",
       "1   2        80        124\n",
       "2   3        80        125\n",
       "3   4        80        126\n",
       "4   5        80        127"
      ]
     },
     "execution_count": 4,
     "metadata": {},
     "output_type": "execute_result"
    }
   ],
   "source": [
    "# Données auteurs x articles : 1 ligne = 1 ID auteur x 1 ID article\n",
    "df_paper_authors = pd.read_csv(os.path.join(local_data_path, 'paper_authors.csv'))\n",
    "print(df_paper_authors.dtypes)\n",
    "df_paper_authors.head()"
   ]
  },
  {
   "cell_type": "code",
   "execution_count": 5,
   "metadata": {},
   "outputs": [
    {
     "name": "stdout",
     "output_type": "stream",
     "text": [
      "id             int64\n",
      "year           int64\n",
      "title         object\n",
      "event_type    object\n",
      "pdf_name      object\n",
      "abstract      object\n",
      "paper_text    object\n",
      "dtype: object\n"
     ]
    },
    {
     "data": {
      "text/html": [
       "<div>\n",
       "<style scoped>\n",
       "    .dataframe tbody tr th:only-of-type {\n",
       "        vertical-align: middle;\n",
       "    }\n",
       "\n",
       "    .dataframe tbody tr th {\n",
       "        vertical-align: top;\n",
       "    }\n",
       "\n",
       "    .dataframe thead th {\n",
       "        text-align: right;\n",
       "    }\n",
       "</style>\n",
       "<table border=\"1\" class=\"dataframe\">\n",
       "  <thead>\n",
       "    <tr style=\"text-align: right;\">\n",
       "      <th></th>\n",
       "      <th>id</th>\n",
       "      <th>year</th>\n",
       "      <th>title</th>\n",
       "      <th>event_type</th>\n",
       "      <th>pdf_name</th>\n",
       "      <th>abstract</th>\n",
       "      <th>paper_text</th>\n",
       "    </tr>\n",
       "  </thead>\n",
       "  <tbody>\n",
       "    <tr>\n",
       "      <th>0</th>\n",
       "      <td>1</td>\n",
       "      <td>1987</td>\n",
       "      <td>Self-Organization of Associative Database and ...</td>\n",
       "      <td>NaN</td>\n",
       "      <td>1-self-organization-of-associative-database-an...</td>\n",
       "      <td>Abstract Missing</td>\n",
       "      <td>767\\n\\nSELF-ORGANIZATION OF ASSOCIATIVE DATABA...</td>\n",
       "    </tr>\n",
       "    <tr>\n",
       "      <th>1</th>\n",
       "      <td>10</td>\n",
       "      <td>1987</td>\n",
       "      <td>A Mean Field Theory of Layer IV of Visual Cort...</td>\n",
       "      <td>NaN</td>\n",
       "      <td>10-a-mean-field-theory-of-layer-iv-of-visual-c...</td>\n",
       "      <td>Abstract Missing</td>\n",
       "      <td>683\\n\\nA MEAN FIELD THEORY OF LAYER IV OF VISU...</td>\n",
       "    </tr>\n",
       "    <tr>\n",
       "      <th>2</th>\n",
       "      <td>100</td>\n",
       "      <td>1988</td>\n",
       "      <td>Storing Covariance by the Associative Long-Ter...</td>\n",
       "      <td>NaN</td>\n",
       "      <td>100-storing-covariance-by-the-associative-long...</td>\n",
       "      <td>Abstract Missing</td>\n",
       "      <td>394\\n\\nSTORING COVARIANCE BY THE ASSOCIATIVE\\n...</td>\n",
       "    </tr>\n",
       "    <tr>\n",
       "      <th>3</th>\n",
       "      <td>1000</td>\n",
       "      <td>1994</td>\n",
       "      <td>Bayesian Query Construction for Neural Network...</td>\n",
       "      <td>NaN</td>\n",
       "      <td>1000-bayesian-query-construction-for-neural-ne...</td>\n",
       "      <td>Abstract Missing</td>\n",
       "      <td>Bayesian Query Construction for Neural\\nNetwor...</td>\n",
       "    </tr>\n",
       "    <tr>\n",
       "      <th>4</th>\n",
       "      <td>1001</td>\n",
       "      <td>1994</td>\n",
       "      <td>Neural Network Ensembles, Cross Validation, an...</td>\n",
       "      <td>NaN</td>\n",
       "      <td>1001-neural-network-ensembles-cross-validation...</td>\n",
       "      <td>Abstract Missing</td>\n",
       "      <td>Neural Network Ensembles, Cross\\nValidation, a...</td>\n",
       "    </tr>\n",
       "  </tbody>\n",
       "</table>\n",
       "</div>"
      ],
      "text/plain": [
       "     id  year                                              title event_type  \\\n",
       "0     1  1987  Self-Organization of Associative Database and ...        NaN   \n",
       "1    10  1987  A Mean Field Theory of Layer IV of Visual Cort...        NaN   \n",
       "2   100  1988  Storing Covariance by the Associative Long-Ter...        NaN   \n",
       "3  1000  1994  Bayesian Query Construction for Neural Network...        NaN   \n",
       "4  1001  1994  Neural Network Ensembles, Cross Validation, an...        NaN   \n",
       "\n",
       "                                            pdf_name          abstract  \\\n",
       "0  1-self-organization-of-associative-database-an...  Abstract Missing   \n",
       "1  10-a-mean-field-theory-of-layer-iv-of-visual-c...  Abstract Missing   \n",
       "2  100-storing-covariance-by-the-associative-long...  Abstract Missing   \n",
       "3  1000-bayesian-query-construction-for-neural-ne...  Abstract Missing   \n",
       "4  1001-neural-network-ensembles-cross-validation...  Abstract Missing   \n",
       "\n",
       "                                          paper_text  \n",
       "0  767\\n\\nSELF-ORGANIZATION OF ASSOCIATIVE DATABA...  \n",
       "1  683\\n\\nA MEAN FIELD THEORY OF LAYER IV OF VISU...  \n",
       "2  394\\n\\nSTORING COVARIANCE BY THE ASSOCIATIVE\\n...  \n",
       "3  Bayesian Query Construction for Neural\\nNetwor...  \n",
       "4  Neural Network Ensembles, Cross\\nValidation, a...  "
      ]
     },
     "execution_count": 5,
     "metadata": {},
     "output_type": "execute_result"
    }
   ],
   "source": [
    "# Données articles : 1 ligne = 1 ID article\n",
    "df_papers = pd.read_csv(os.path.join(local_data_path, 'papers.csv'))\n",
    "print(df_papers.dtypes)\n",
    "df_papers.head()"
   ]
  },
  {
   "cell_type": "markdown",
   "metadata": {},
   "source": [
    "## Question 1. Analyse des liens entre les auteurs"
   ]
  },
  {
   "cell_type": "markdown",
   "metadata": {},
   "source": [
    "#### 1.0. Nettoyage et jointure des bases"
   ]
  },
  {
   "cell_type": "code",
   "execution_count": 6,
   "metadata": {},
   "outputs": [
    {
     "name": "stdout",
     "output_type": "stream",
     "text": [
      "Nombre de lignes dans la base auteurs : 9784\n",
      "Nombre d'identifiants uniques dans la base auteurs : 9784\n",
      "Nombre de noms uniques dans la base auteurs : 9719\n"
     ]
    }
   ],
   "source": [
    "# Auteurs\n",
    "print(\"Nombre de lignes dans la base auteurs :\", df_authors.shape[0])\n",
    "print(\"Nombre d'identifiants uniques dans la base auteurs :\", df_authors['id'].nunique())\n",
    "print(\"Nombre de noms uniques dans la base auteurs :\", df_authors['name'].nunique())"
   ]
  },
  {
   "cell_type": "code",
   "execution_count": 7,
   "metadata": {
    "scrolled": false
   },
   "outputs": [
    {
     "name": "stdout",
     "output_type": "stream",
     "text": [
      "Nombre de noms d'auteurs apparaissant sous plusieurs identifiants : 63\n"
     ]
    },
    {
     "data": {
      "text/html": [
       "<div>\n",
       "<style scoped>\n",
       "    .dataframe tbody tr th:only-of-type {\n",
       "        vertical-align: middle;\n",
       "    }\n",
       "\n",
       "    .dataframe tbody tr th {\n",
       "        vertical-align: top;\n",
       "    }\n",
       "\n",
       "    .dataframe thead th {\n",
       "        text-align: right;\n",
       "    }\n",
       "</style>\n",
       "<table border=\"1\" class=\"dataframe\">\n",
       "  <thead>\n",
       "    <tr style=\"text-align: right;\">\n",
       "      <th></th>\n",
       "      <th>id</th>\n",
       "      <th>name</th>\n",
       "    </tr>\n",
       "  </thead>\n",
       "  <tbody>\n",
       "    <tr>\n",
       "      <th>5976</th>\n",
       "      <td>6506</td>\n",
       "      <td>Abhradeep Guha Thakurta</td>\n",
       "    </tr>\n",
       "    <tr>\n",
       "      <th>7619</th>\n",
       "      <td>8027</td>\n",
       "      <td>Abhradeep Guha Thakurta</td>\n",
       "    </tr>\n",
       "    <tr>\n",
       "      <th>924</th>\n",
       "      <td>1410</td>\n",
       "      <td>Alex J. Smola</td>\n",
       "    </tr>\n",
       "    <tr>\n",
       "      <th>6378</th>\n",
       "      <td>6882</td>\n",
       "      <td>Alex J. Smola</td>\n",
       "    </tr>\n",
       "    <tr>\n",
       "      <th>1535</th>\n",
       "      <td>1966</td>\n",
       "      <td>Alexander T. Ihler</td>\n",
       "    </tr>\n",
       "    <tr>\n",
       "      <th>5349</th>\n",
       "      <td>5418</td>\n",
       "      <td>Alexander T. Ihler</td>\n",
       "    </tr>\n",
       "    <tr>\n",
       "      <th>6408</th>\n",
       "      <td>6910</td>\n",
       "      <td>Andrew Y. Ng</td>\n",
       "    </tr>\n",
       "    <tr>\n",
       "      <th>1413</th>\n",
       "      <td>1853</td>\n",
       "      <td>Andrew Y. Ng</td>\n",
       "    </tr>\n",
       "    <tr>\n",
       "      <th>6391</th>\n",
       "      <td>6894</td>\n",
       "      <td>Angela J. Yu</td>\n",
       "    </tr>\n",
       "    <tr>\n",
       "      <th>1866</th>\n",
       "      <td>2266</td>\n",
       "      <td>Angela J. Yu</td>\n",
       "    </tr>\n",
       "    <tr>\n",
       "      <th>8097</th>\n",
       "      <td>8467</td>\n",
       "      <td>Arian Maleki</td>\n",
       "    </tr>\n",
       "    <tr>\n",
       "      <th>5272</th>\n",
       "      <td>5347</td>\n",
       "      <td>Arian Maleki</td>\n",
       "    </tr>\n",
       "    <tr>\n",
       "      <th>8138</th>\n",
       "      <td>8504</td>\n",
       "      <td>Arthur Guez</td>\n",
       "    </tr>\n",
       "    <tr>\n",
       "      <th>5535</th>\n",
       "      <td>5589</td>\n",
       "      <td>Arthur Guez</td>\n",
       "    </tr>\n",
       "    <tr>\n",
       "      <th>6020</th>\n",
       "      <td>6546</td>\n",
       "      <td>Brendan Frey</td>\n",
       "    </tr>\n",
       "    <tr>\n",
       "      <th>6572</th>\n",
       "      <td>7070</td>\n",
       "      <td>Brendan Frey</td>\n",
       "    </tr>\n",
       "    <tr>\n",
       "      <th>6625</th>\n",
       "      <td>7120</td>\n",
       "      <td>C. A. Mead</td>\n",
       "    </tr>\n",
       "    <tr>\n",
       "      <th>6579</th>\n",
       "      <td>7077</td>\n",
       "      <td>C. A. Mead</td>\n",
       "    </tr>\n",
       "    <tr>\n",
       "      <th>6099</th>\n",
       "      <td>6617</td>\n",
       "      <td>Carl Edward Rasmussen</td>\n",
       "    </tr>\n",
       "    <tr>\n",
       "      <th>750</th>\n",
       "      <td>1254</td>\n",
       "      <td>Carl Edward Rasmussen</td>\n",
       "    </tr>\n",
       "    <tr>\n",
       "      <th>6191</th>\n",
       "      <td>6700</td>\n",
       "      <td>Charles L. Isbell</td>\n",
       "    </tr>\n",
       "    <tr>\n",
       "      <th>2106</th>\n",
       "      <td>2484</td>\n",
       "      <td>Charles L. Isbell</td>\n",
       "    </tr>\n",
       "    <tr>\n",
       "      <th>6530</th>\n",
       "      <td>7027</td>\n",
       "      <td>Chris M. Bishop</td>\n",
       "    </tr>\n",
       "    <tr>\n",
       "      <th>6531</th>\n",
       "      <td>7028</td>\n",
       "      <td>Chris M. Bishop</td>\n",
       "    </tr>\n",
       "    <tr>\n",
       "      <th>6459</th>\n",
       "      <td>6958</td>\n",
       "      <td>Christopher J. C. Burges</td>\n",
       "    </tr>\n",
       "    <tr>\n",
       "      <th>7369</th>\n",
       "      <td>780</td>\n",
       "      <td>Christopher J. C. Burges</td>\n",
       "    </tr>\n",
       "    <tr>\n",
       "      <th>6574</th>\n",
       "      <td>7072</td>\n",
       "      <td>Christopher K. I. Williams</td>\n",
       "    </tr>\n",
       "    <tr>\n",
       "      <th>7094</th>\n",
       "      <td>755</td>\n",
       "      <td>Christopher K. I. Williams</td>\n",
       "    </tr>\n",
       "    <tr>\n",
       "      <th>3016</th>\n",
       "      <td>3308</td>\n",
       "      <td>Chuong B. Do</td>\n",
       "    </tr>\n",
       "    <tr>\n",
       "      <th>6407</th>\n",
       "      <td>6909</td>\n",
       "      <td>Chuong B. Do</td>\n",
       "    </tr>\n",
       "    <tr>\n",
       "      <th>...</th>\n",
       "      <td>...</td>\n",
       "      <td>...</td>\n",
       "    </tr>\n",
       "    <tr>\n",
       "      <th>6410</th>\n",
       "      <td>6912</td>\n",
       "      <td>Sham M. Kakade</td>\n",
       "    </tr>\n",
       "    <tr>\n",
       "      <th>8860</th>\n",
       "      <td>916</td>\n",
       "      <td>Shih-Chii Liu</td>\n",
       "    </tr>\n",
       "    <tr>\n",
       "      <th>6406</th>\n",
       "      <td>6907</td>\n",
       "      <td>Shih-Chii Liu</td>\n",
       "    </tr>\n",
       "    <tr>\n",
       "      <th>1424</th>\n",
       "      <td>1863</td>\n",
       "      <td>Stella X. Yu</td>\n",
       "    </tr>\n",
       "    <tr>\n",
       "      <th>6505</th>\n",
       "      <td>7003</td>\n",
       "      <td>Stella X. Yu</td>\n",
       "    </tr>\n",
       "    <tr>\n",
       "      <th>6446</th>\n",
       "      <td>6946</td>\n",
       "      <td>Stella X. Yu</td>\n",
       "    </tr>\n",
       "    <tr>\n",
       "      <th>1137</th>\n",
       "      <td>1603</td>\n",
       "      <td>Stuart J. Russell</td>\n",
       "    </tr>\n",
       "    <tr>\n",
       "      <th>1918</th>\n",
       "      <td>2312</td>\n",
       "      <td>Stuart J. Russell</td>\n",
       "    </tr>\n",
       "    <tr>\n",
       "      <th>6723</th>\n",
       "      <td>7214</td>\n",
       "      <td>Sung Ju Hwang</td>\n",
       "    </tr>\n",
       "    <tr>\n",
       "      <th>4839</th>\n",
       "      <td>4955</td>\n",
       "      <td>Sung Ju Hwang</td>\n",
       "    </tr>\n",
       "    <tr>\n",
       "      <th>6449</th>\n",
       "      <td>6949</td>\n",
       "      <td>T.J. Sejnowski</td>\n",
       "    </tr>\n",
       "    <tr>\n",
       "      <th>7282</th>\n",
       "      <td>7719</td>\n",
       "      <td>T.J. Sejnowski</td>\n",
       "    </tr>\n",
       "    <tr>\n",
       "      <th>6605</th>\n",
       "      <td>7100</td>\n",
       "      <td>Tomaso A. Poggio</td>\n",
       "    </tr>\n",
       "    <tr>\n",
       "      <th>7542</th>\n",
       "      <td>7959</td>\n",
       "      <td>Tomaso A. Poggio</td>\n",
       "    </tr>\n",
       "    <tr>\n",
       "      <th>7290</th>\n",
       "      <td>7726</td>\n",
       "      <td>V. P. Roychowdhury</td>\n",
       "    </tr>\n",
       "    <tr>\n",
       "      <th>7426</th>\n",
       "      <td>7852</td>\n",
       "      <td>V. P. Roychowdhury</td>\n",
       "    </tr>\n",
       "    <tr>\n",
       "      <th>3130</th>\n",
       "      <td>3410</td>\n",
       "      <td>Vikash K. Mansinghka</td>\n",
       "    </tr>\n",
       "    <tr>\n",
       "      <th>5754</th>\n",
       "      <td>6305</td>\n",
       "      <td>Vikash K. Mansinghka</td>\n",
       "    </tr>\n",
       "    <tr>\n",
       "      <th>7137</th>\n",
       "      <td>7589</td>\n",
       "      <td>Wei Ji Ma</td>\n",
       "    </tr>\n",
       "    <tr>\n",
       "      <th>9414</th>\n",
       "      <td>9665</td>\n",
       "      <td>Wei Ji Ma</td>\n",
       "    </tr>\n",
       "    <tr>\n",
       "      <th>2793</th>\n",
       "      <td>3105</td>\n",
       "      <td>Wei Zhang</td>\n",
       "    </tr>\n",
       "    <tr>\n",
       "      <th>6513</th>\n",
       "      <td>7010</td>\n",
       "      <td>Wei Zhang</td>\n",
       "    </tr>\n",
       "    <tr>\n",
       "      <th>1503</th>\n",
       "      <td>1936</td>\n",
       "      <td>Xiuwen Liu</td>\n",
       "    </tr>\n",
       "    <tr>\n",
       "      <th>6423</th>\n",
       "      <td>6925</td>\n",
       "      <td>Xiuwen Liu</td>\n",
       "    </tr>\n",
       "    <tr>\n",
       "      <th>3298</th>\n",
       "      <td>3562</td>\n",
       "      <td>Xuejun Liao</td>\n",
       "    </tr>\n",
       "    <tr>\n",
       "      <th>6396</th>\n",
       "      <td>6899</td>\n",
       "      <td>Xuejun Liao</td>\n",
       "    </tr>\n",
       "    <tr>\n",
       "      <th>7403</th>\n",
       "      <td>7831</td>\n",
       "      <td>Yee-Chun Lee</td>\n",
       "    </tr>\n",
       "    <tr>\n",
       "      <th>614</th>\n",
       "      <td>113</td>\n",
       "      <td>Yee-Chun Lee</td>\n",
       "    </tr>\n",
       "    <tr>\n",
       "      <th>6658</th>\n",
       "      <td>7154</td>\n",
       "      <td>Zhaoran Wang</td>\n",
       "    </tr>\n",
       "    <tr>\n",
       "      <th>478</th>\n",
       "      <td>10432</td>\n",
       "      <td>Zhaoran Wang</td>\n",
       "    </tr>\n",
       "  </tbody>\n",
       "</table>\n",
       "<p>128 rows × 2 columns</p>\n",
       "</div>"
      ],
      "text/plain": [
       "         id                        name\n",
       "5976   6506     Abhradeep Guha Thakurta\n",
       "7619   8027     Abhradeep Guha Thakurta\n",
       "924    1410               Alex J. Smola\n",
       "6378   6882               Alex J. Smola\n",
       "1535   1966          Alexander T. Ihler\n",
       "5349   5418          Alexander T. Ihler\n",
       "6408   6910                Andrew Y. Ng\n",
       "1413   1853                Andrew Y. Ng\n",
       "6391   6894                Angela J. Yu\n",
       "1866   2266                Angela J. Yu\n",
       "8097   8467                Arian Maleki\n",
       "5272   5347                Arian Maleki\n",
       "8138   8504                 Arthur Guez\n",
       "5535   5589                 Arthur Guez\n",
       "6020   6546                Brendan Frey\n",
       "6572   7070                Brendan Frey\n",
       "6625   7120                  C. A. Mead\n",
       "6579   7077                  C. A. Mead\n",
       "6099   6617       Carl Edward Rasmussen\n",
       "750    1254       Carl Edward Rasmussen\n",
       "6191   6700           Charles L. Isbell\n",
       "2106   2484           Charles L. Isbell\n",
       "6530   7027             Chris M. Bishop\n",
       "6531   7028             Chris M. Bishop\n",
       "6459   6958    Christopher J. C. Burges\n",
       "7369    780    Christopher J. C. Burges\n",
       "6574   7072  Christopher K. I. Williams\n",
       "7094    755  Christopher K. I. Williams\n",
       "3016   3308                Chuong B. Do\n",
       "6407   6909                Chuong B. Do\n",
       "...     ...                         ...\n",
       "6410   6912              Sham M. Kakade\n",
       "8860    916               Shih-Chii Liu\n",
       "6406   6907               Shih-Chii Liu\n",
       "1424   1863                Stella X. Yu\n",
       "6505   7003                Stella X. Yu\n",
       "6446   6946                Stella X. Yu\n",
       "1137   1603           Stuart J. Russell\n",
       "1918   2312           Stuart J. Russell\n",
       "6723   7214               Sung Ju Hwang\n",
       "4839   4955               Sung Ju Hwang\n",
       "6449   6949              T.J. Sejnowski\n",
       "7282   7719              T.J. Sejnowski\n",
       "6605   7100            Tomaso A. Poggio\n",
       "7542   7959            Tomaso A. Poggio\n",
       "7290   7726          V. P. Roychowdhury\n",
       "7426   7852          V. P. Roychowdhury\n",
       "3130   3410        Vikash K. Mansinghka\n",
       "5754   6305        Vikash K. Mansinghka\n",
       "7137   7589                   Wei Ji Ma\n",
       "9414   9665                   Wei Ji Ma\n",
       "2793   3105                   Wei Zhang\n",
       "6513   7010                   Wei Zhang\n",
       "1503   1936                  Xiuwen Liu\n",
       "6423   6925                  Xiuwen Liu\n",
       "3298   3562                 Xuejun Liao\n",
       "6396   6899                 Xuejun Liao\n",
       "7403   7831                Yee-Chun Lee\n",
       "614     113                Yee-Chun Lee\n",
       "6658   7154                Zhaoran Wang\n",
       "478   10432                Zhaoran Wang\n",
       "\n",
       "[128 rows x 2 columns]"
      ]
     },
     "execution_count": 7,
     "metadata": {},
     "output_type": "execute_result"
    }
   ],
   "source": [
    "print(\"Nombre de noms d'auteurs apparaissant sous plusieurs identifiants :\", \n",
    "      df_authors.loc[df_authors['name'].duplicated(keep=False)]['name'].nunique())\n",
    "df_authors.loc[df_authors['name'].duplicated(keep=False)].sort_values('name')\n",
    "# 128 lignes dédoublées = 63 auteurs (1 en 3 fois) \n",
    "# => les noms étant dans la majorité des cas suffisamment uniques, \n",
    "# on fera dans la suite l'hypothèse qu'un même nom représente un même auteur"
   ]
  },
  {
   "cell_type": "code",
   "execution_count": 8,
   "metadata": {},
   "outputs": [
    {
     "name": "stdout",
     "output_type": "stream",
     "text": [
      "          id  paper_id  author_id\n",
      "13607  13608      5012       6506\n",
      "16175  16176      5729       8027\n",
      "19112  19113      6823       8027\n",
      "        id  year                                              title\n",
      "4434  5012  2013  (Nearly) Optimal Algorithms for Private Online...\n",
      "5223  5729  2015                       Nearly Optimal Private LASSO\n",
      "6438  6823  2017            Practical Locally Private Heavy Hitters\n"
     ]
    }
   ],
   "source": [
    "# Etude de cas sur un exemple d'auteur : Abhradeep Guha Thakurta\n",
    "print(df_paper_authors.loc[df_paper_authors['author_id'].isin([6506, 8027])])\n",
    "print(df_papers.loc[df_papers['id'].isin([5012, 5729, 6823]), ['id', 'year', 'title']])\n",
    "# les articles semblent partager un même thème : il apparait raisonnable de supposer qu'il s'agit bien d'un même auteur"
   ]
  },
  {
   "cell_type": "code",
   "execution_count": 9,
   "metadata": {},
   "outputs": [
    {
     "name": "stdout",
     "output_type": "stream",
     "text": [
      "Nombre de lignes dans la base auteurs x articles : 20838\n",
      "Nombre d'identifiants uniques dans la base auteurs x articles : 20838\n",
      "Nombre d'identifiants auteur uniques dans la base auteurs x articles : 9784\n",
      "Nombre d'identifiants article uniques dans la base auteurs x articles : 7238\n",
      "Nombre de combinaisons d'identifiants auteur x article uniques dans la base auteurs x articles : 20823\n"
     ]
    }
   ],
   "source": [
    "# Auteurs x articles\n",
    "print(\"Nombre de lignes dans la base auteurs x articles :\", df_paper_authors.shape[0])\n",
    "print(\"Nombre d'identifiants uniques dans la base auteurs x articles :\", df_paper_authors['id'].nunique())\n",
    "print(\"Nombre d'identifiants auteur uniques dans la base auteurs x articles :\", df_paper_authors['author_id'].nunique())\n",
    "print(\"Nombre d'identifiants article uniques dans la base auteurs x articles :\", df_paper_authors['paper_id'].nunique())\n",
    "\n",
    "print(\"Nombre de combinaisons d'identifiants auteur x article uniques dans la base auteurs x articles :\", \n",
    "      df_paper_authors[['author_id', 'paper_id']].drop_duplicates().shape[0]) "
   ]
  },
  {
   "cell_type": "code",
   "execution_count": 10,
   "metadata": {},
   "outputs": [
    {
     "name": "stdout",
     "output_type": "stream",
     "text": [
      "duplicats identifiant\n",
      "Empty DataFrame\n",
      "Columns: [id, year, title, event_type, pdf_name, abstract, paper_text]\n",
      "Index: []\n",
      "duplicats titre\n",
      "Empty DataFrame\n",
      "Columns: [id, year, title, event_type, pdf_name, abstract, paper_text]\n",
      "Index: []\n",
      "duplicats titre pdf\n",
      "Empty DataFrame\n",
      "Columns: [id, year, title, event_type, pdf_name, abstract, paper_text]\n",
      "Index: []\n"
     ]
    }
   ],
   "source": [
    "# Vérifications de la présence de duplicats sur la base articles\n",
    "print(\"duplicats identifiant\")\n",
    "print(df_papers.loc[df_papers['id'].duplicated(keep=False)])\n",
    "print(\"duplicats titre\")\n",
    "print(df_papers.loc[df_papers['title'].duplicated(keep=False)])\n",
    "print(\"duplicats titre pdf\")\n",
    "print(df_papers.loc[df_papers['pdf_name'].duplicated(keep=False)])\n",
    "# aucun duplicat sur le titre, ni id ni pdf_name"
   ]
  },
  {
   "cell_type": "code",
   "execution_count": 12,
   "metadata": {},
   "outputs": [
    {
     "name": "stdout",
     "output_type": "stream",
     "text": [
      "duplicats texte complet\n"
     ]
    },
    {
     "data": {
      "text/html": [
       "<div>\n",
       "<style scoped>\n",
       "    .dataframe tbody tr th:only-of-type {\n",
       "        vertical-align: middle;\n",
       "    }\n",
       "\n",
       "    .dataframe tbody tr th {\n",
       "        vertical-align: top;\n",
       "    }\n",
       "\n",
       "    .dataframe thead th {\n",
       "        text-align: right;\n",
       "    }\n",
       "</style>\n",
       "<table border=\"1\" class=\"dataframe\">\n",
       "  <thead>\n",
       "    <tr style=\"text-align: right;\">\n",
       "      <th></th>\n",
       "      <th>id</th>\n",
       "      <th>year</th>\n",
       "      <th>title</th>\n",
       "      <th>event_type</th>\n",
       "      <th>pdf_name</th>\n",
       "      <th>abstract</th>\n",
       "      <th>paper_text</th>\n",
       "    </tr>\n",
       "  </thead>\n",
       "  <tbody>\n",
       "    <tr>\n",
       "      <th>631</th>\n",
       "      <td>1578</td>\n",
       "      <td>1998</td>\n",
       "      <td>Dynamics of Supervised Learning with Restricte...</td>\n",
       "      <td>NaN</td>\n",
       "      <td>1578-dynamics-of-supervised-learning-with-rest...</td>\n",
       "      <td>Abstract Missing</td>\n",
       "      <td>Dynamics of Supervised Learning with\\nRestrict...</td>\n",
       "    </tr>\n",
       "    <tr>\n",
       "      <th>632</th>\n",
       "      <td>1579</td>\n",
       "      <td>1998</td>\n",
       "      <td>Discovering Hidden Features with Gaussian Proc...</td>\n",
       "      <td>NaN</td>\n",
       "      <td>1579-discovering-hidden-features-with-gaussian...</td>\n",
       "      <td>Abstract Missing</td>\n",
       "      <td>Dynamics of Supervised Learning with\\nRestrict...</td>\n",
       "    </tr>\n",
       "    <tr>\n",
       "      <th>3862</th>\n",
       "      <td>4497</td>\n",
       "      <td>2012</td>\n",
       "      <td>Emergence of Object-Selective Features in Unsu...</td>\n",
       "      <td>NaN</td>\n",
       "      <td>4497-emergence-of-object-selective-features-in...</td>\n",
       "      <td>Recent work in unsupervised feature learning h...</td>\n",
       "      <td>Emergence of Object-Selective Features in\\nUns...</td>\n",
       "    </tr>\n",
       "    <tr>\n",
       "      <th>4109</th>\n",
       "      <td>4719</td>\n",
       "      <td>2012</td>\n",
       "      <td>Burn-in, bias, and the rationality of anchoring</td>\n",
       "      <td>NaN</td>\n",
       "      <td>4719-burn-in-bias-and-the-rationality-of-ancho...</td>\n",
       "      <td>Bayesian inference provides a unifying framewo...</td>\n",
       "      <td>Emergence of Object-Selective Features in\\nUns...</td>\n",
       "    </tr>\n",
       "    <tr>\n",
       "      <th>5583</th>\n",
       "      <td>6052</td>\n",
       "      <td>2016</td>\n",
       "      <td>Only H is left: Near-tight Episodic PAC RL</td>\n",
       "      <td>Poster</td>\n",
       "      <td>6052-only-h-is-left-near-tight-episodic-pac-rl...</td>\n",
       "      <td>In many applications such as advertisement pla...</td>\n",
       "      <td>Launch and Iterate: Reducing Prediction Churn\\...</td>\n",
       "    </tr>\n",
       "    <tr>\n",
       "      <th>5584</th>\n",
       "      <td>6053</td>\n",
       "      <td>2016</td>\n",
       "      <td>Launch and Iterate: Reducing Prediction Churn</td>\n",
       "      <td>Poster</td>\n",
       "      <td>6053-launch-and-iterate-reducing-prediction-ch...</td>\n",
       "      <td>Practical applications of machine learning oft...</td>\n",
       "      <td>Launch and Iterate: Reducing Prediction Churn\\...</td>\n",
       "    </tr>\n",
       "    <tr>\n",
       "      <th>5722</th>\n",
       "      <td>6178</td>\n",
       "      <td>2016</td>\n",
       "      <td>Regret Bounds for Non-decomposable Metrics wit...</td>\n",
       "      <td>Poster</td>\n",
       "      <td>6178-regret-bounds-for-non-decomposable-metric...</td>\n",
       "      <td>We consider the problem of recommending releva...</td>\n",
       "      <td></td>\n",
       "    </tr>\n",
       "    <tr>\n",
       "      <th>6499</th>\n",
       "      <td>6879</td>\n",
       "      <td>2017</td>\n",
       "      <td>Mean Field Residual Networks: On the Edge of C...</td>\n",
       "      <td>Poster</td>\n",
       "      <td>6879-mean-field-residual-networks-on-the-edge-...</td>\n",
       "      <td>We study randomly initialized residual network...</td>\n",
       "      <td></td>\n",
       "    </tr>\n",
       "  </tbody>\n",
       "</table>\n",
       "</div>"
      ],
      "text/plain": [
       "        id  year                                              title  \\\n",
       "631   1578  1998  Dynamics of Supervised Learning with Restricte...   \n",
       "632   1579  1998  Discovering Hidden Features with Gaussian Proc...   \n",
       "3862  4497  2012  Emergence of Object-Selective Features in Unsu...   \n",
       "4109  4719  2012    Burn-in, bias, and the rationality of anchoring   \n",
       "5583  6052  2016         Only H is left: Near-tight Episodic PAC RL   \n",
       "5584  6053  2016      Launch and Iterate: Reducing Prediction Churn   \n",
       "5722  6178  2016  Regret Bounds for Non-decomposable Metrics wit...   \n",
       "6499  6879  2017  Mean Field Residual Networks: On the Edge of C...   \n",
       "\n",
       "     event_type                                           pdf_name  \\\n",
       "631         NaN  1578-dynamics-of-supervised-learning-with-rest...   \n",
       "632         NaN  1579-discovering-hidden-features-with-gaussian...   \n",
       "3862        NaN  4497-emergence-of-object-selective-features-in...   \n",
       "4109        NaN  4719-burn-in-bias-and-the-rationality-of-ancho...   \n",
       "5583     Poster  6052-only-h-is-left-near-tight-episodic-pac-rl...   \n",
       "5584     Poster  6053-launch-and-iterate-reducing-prediction-ch...   \n",
       "5722     Poster  6178-regret-bounds-for-non-decomposable-metric...   \n",
       "6499     Poster  6879-mean-field-residual-networks-on-the-edge-...   \n",
       "\n",
       "                                               abstract  \\\n",
       "631                                    Abstract Missing   \n",
       "632                                    Abstract Missing   \n",
       "3862  Recent work in unsupervised feature learning h...   \n",
       "4109  Bayesian inference provides a unifying framewo...   \n",
       "5583  In many applications such as advertisement pla...   \n",
       "5584  Practical applications of machine learning oft...   \n",
       "5722  We consider the problem of recommending releva...   \n",
       "6499  We study randomly initialized residual network...   \n",
       "\n",
       "                                             paper_text  \n",
       "631   Dynamics of Supervised Learning with\\nRestrict...  \n",
       "632   Dynamics of Supervised Learning with\\nRestrict...  \n",
       "3862  Emergence of Object-Selective Features in\\nUns...  \n",
       "4109  Emergence of Object-Selective Features in\\nUns...  \n",
       "5583  Launch and Iterate: Reducing Prediction Churn\\...  \n",
       "5584  Launch and Iterate: Reducing Prediction Churn\\...  \n",
       "5722                                          \n",
       "\n",
       "\n",
       "\n",
       "\n",
       "\n",
       "\n",
       "\n",
       "\n",
       "  \n",
       "6499                                          \n",
       "\n",
       "\n",
       "\n",
       "\n",
       "\n",
       "\n",
       "\n",
       "\n",
       "  "
      ]
     },
     "execution_count": 12,
     "metadata": {},
     "output_type": "execute_result"
    }
   ],
   "source": [
    "print(\"duplicats texte complet\")\n",
    "df_papers.loc[df_papers['paper_text'].duplicated(keep=False)]\n",
    "# 3 cas de textes identiques "
   ]
  },
  {
   "cell_type": "code",
   "execution_count": 14,
   "metadata": {},
   "outputs": [
    {
     "name": "stdout",
     "output_type": "stream",
     "text": [
      "duplicats texte complet\n"
     ]
    },
    {
     "data": {
      "text/html": [
       "<div>\n",
       "<style scoped>\n",
       "    .dataframe tbody tr th:only-of-type {\n",
       "        vertical-align: middle;\n",
       "    }\n",
       "\n",
       "    .dataframe tbody tr th {\n",
       "        vertical-align: top;\n",
       "    }\n",
       "\n",
       "    .dataframe thead th {\n",
       "        text-align: right;\n",
       "    }\n",
       "</style>\n",
       "<table border=\"1\" class=\"dataframe\">\n",
       "  <thead>\n",
       "    <tr style=\"text-align: right;\">\n",
       "      <th></th>\n",
       "      <th>id</th>\n",
       "      <th>year</th>\n",
       "      <th>title</th>\n",
       "      <th>event_type</th>\n",
       "      <th>pdf_name</th>\n",
       "      <th>abstract</th>\n",
       "      <th>paper_text</th>\n",
       "    </tr>\n",
       "  </thead>\n",
       "  <tbody>\n",
       "    <tr>\n",
       "      <th>4585</th>\n",
       "      <td>5149</td>\n",
       "      <td>2013</td>\n",
       "      <td>Online Learning with Costly Features and Labels</td>\n",
       "      <td>Poster</td>\n",
       "      <td>5149-online-learning-with-costly-features-and-...</td>\n",
       "      <td>We study the power of different types of adapt...</td>\n",
       "      <td>Online Learning with Costly Features and Label...</td>\n",
       "    </tr>\n",
       "    <tr>\n",
       "      <th>4588</th>\n",
       "      <td>5151</td>\n",
       "      <td>2013</td>\n",
       "      <td>Online Learning with Switching Costs and Other...</td>\n",
       "      <td>Poster</td>\n",
       "      <td>5151-online-learning-with-switching-costs-and-...</td>\n",
       "      <td>We study the power of different types of adapt...</td>\n",
       "      <td>Online Learning with Switching Costs and Other...</td>\n",
       "    </tr>\n",
       "    <tr>\n",
       "      <th>5433</th>\n",
       "      <td>5918</td>\n",
       "      <td>2015</td>\n",
       "      <td>Convergence rates of sub-sampled Newton methods</td>\n",
       "      <td>Poster</td>\n",
       "      <td>5918-convergence-rates-of-sub-sampled-newton-m...</td>\n",
       "      <td>An active learner is given a class of models, ...</td>\n",
       "      <td>Convergence rates of sub-sampled Newton method...</td>\n",
       "    </tr>\n",
       "    <tr>\n",
       "      <th>5437</th>\n",
       "      <td>5921</td>\n",
       "      <td>2015</td>\n",
       "      <td>Convergence Rates of Active Learning for Maxim...</td>\n",
       "      <td>Poster</td>\n",
       "      <td>5921-convergence-rates-of-active-learning-for-...</td>\n",
       "      <td>An active learner is given a class of models, ...</td>\n",
       "      <td>Convergence Rates of Active Learning\\nfor Maxi...</td>\n",
       "    </tr>\n",
       "  </tbody>\n",
       "</table>\n",
       "</div>"
      ],
      "text/plain": [
       "        id  year                                              title  \\\n",
       "4585  5149  2013    Online Learning with Costly Features and Labels   \n",
       "4588  5151  2013  Online Learning with Switching Costs and Other...   \n",
       "5433  5918  2015    Convergence rates of sub-sampled Newton methods   \n",
       "5437  5921  2015  Convergence Rates of Active Learning for Maxim...   \n",
       "\n",
       "     event_type                                           pdf_name  \\\n",
       "4585     Poster  5149-online-learning-with-costly-features-and-...   \n",
       "4588     Poster  5151-online-learning-with-switching-costs-and-...   \n",
       "5433     Poster  5918-convergence-rates-of-sub-sampled-newton-m...   \n",
       "5437     Poster  5921-convergence-rates-of-active-learning-for-...   \n",
       "\n",
       "                                               abstract  \\\n",
       "4585  We study the power of different types of adapt...   \n",
       "4588  We study the power of different types of adapt...   \n",
       "5433  An active learner is given a class of models, ...   \n",
       "5437  An active learner is given a class of models, ...   \n",
       "\n",
       "                                             paper_text  \n",
       "4585  Online Learning with Costly Features and Label...  \n",
       "4588  Online Learning with Switching Costs and Other...  \n",
       "5433  Convergence rates of sub-sampled Newton method...  \n",
       "5437  Convergence Rates of Active Learning\\nfor Maxi...  "
      ]
     },
     "execution_count": 14,
     "metadata": {},
     "output_type": "execute_result"
    }
   ],
   "source": [
    "print(\"duplicats texte complet\")\n",
    "(df_papers\n",
    " .loc[lambda df: df['abstract'] != \"Abstract Missing\"]\n",
    " .loc[lambda df: df['abstract'].duplicated(keep=False)]\n",
    ")\n",
    "# 2 cas d'abstracts identiques"
   ]
  },
  {
   "cell_type": "code",
   "execution_count": null,
   "metadata": {},
   "outputs": [],
   "source": [
    "# Devant le faible nombre d'articles dupliqués, on considérera que chaque identifiant article est bien unique"
   ]
  },
  {
   "cell_type": "code",
   "execution_count": 15,
   "metadata": {},
   "outputs": [
    {
     "data": {
      "text/html": [
       "<div>\n",
       "<style scoped>\n",
       "    .dataframe tbody tr th:only-of-type {\n",
       "        vertical-align: middle;\n",
       "    }\n",
       "\n",
       "    .dataframe tbody tr th {\n",
       "        vertical-align: top;\n",
       "    }\n",
       "\n",
       "    .dataframe thead th {\n",
       "        text-align: right;\n",
       "    }\n",
       "</style>\n",
       "<table border=\"1\" class=\"dataframe\">\n",
       "  <thead>\n",
       "    <tr style=\"text-align: right;\">\n",
       "      <th></th>\n",
       "      <th>row_id</th>\n",
       "      <th>paper_id</th>\n",
       "      <th>author_id</th>\n",
       "      <th>author_name</th>\n",
       "    </tr>\n",
       "  </thead>\n",
       "  <tbody>\n",
       "    <tr>\n",
       "      <th>0</th>\n",
       "      <td>1</td>\n",
       "      <td>63</td>\n",
       "      <td>94</td>\n",
       "      <td>Yaser S. Abu-Mostafa</td>\n",
       "    </tr>\n",
       "    <tr>\n",
       "      <th>1</th>\n",
       "      <td>2</td>\n",
       "      <td>80</td>\n",
       "      <td>124</td>\n",
       "      <td>Joshua Alspector</td>\n",
       "    </tr>\n",
       "    <tr>\n",
       "      <th>2</th>\n",
       "      <td>3</td>\n",
       "      <td>80</td>\n",
       "      <td>125</td>\n",
       "      <td>Robert B. Allen</td>\n",
       "    </tr>\n",
       "    <tr>\n",
       "      <th>3</th>\n",
       "      <td>4</td>\n",
       "      <td>80</td>\n",
       "      <td>126</td>\n",
       "      <td>Victor Hu</td>\n",
       "    </tr>\n",
       "    <tr>\n",
       "      <th>4</th>\n",
       "      <td>5</td>\n",
       "      <td>80</td>\n",
       "      <td>127</td>\n",
       "      <td>Srinagesh Satyanarayana</td>\n",
       "    </tr>\n",
       "  </tbody>\n",
       "</table>\n",
       "</div>"
      ],
      "text/plain": [
       "   row_id  paper_id  author_id              author_name\n",
       "0       1        63         94     Yaser S. Abu-Mostafa\n",
       "1       2        80        124         Joshua Alspector\n",
       "2       3        80        125          Robert B. Allen\n",
       "3       4        80        126                Victor Hu\n",
       "4       5        80        127  Srinagesh Satyanarayana"
      ]
     },
     "execution_count": 15,
     "metadata": {},
     "output_type": "execute_result"
    }
   ],
   "source": [
    "# Jointure\n",
    "df_q1 = (df_paper_authors\n",
    "         .rename(columns={'id':'row_id'})\n",
    "         .merge(df_authors\n",
    "                .rename(columns={'id':'author_id', 'name':'author_name'}),\n",
    "                how='left')\n",
    "        )\n",
    "df_q1.head()"
   ]
  },
  {
   "cell_type": "code",
   "execution_count": 16,
   "metadata": {},
   "outputs": [
    {
     "name": "stdout",
     "output_type": "stream",
     "text": [
      "Eventuels identifiants auteur non matchés : 0\n",
      "Nombre de noms d'auteurs uniques dans la base : 9719\n"
     ]
    }
   ],
   "source": [
    "print(\"Eventuels identifiants auteur non matchés :\", df_q1['author_name'].isna().sum())\n",
    "print(\"Nombre de noms d'auteurs uniques dans la base :\", df_q1['author_name'].nunique())"
   ]
  },
  {
   "cell_type": "markdown",
   "metadata": {},
   "source": [
    "#### 1.1. Rapide analyse descriptive"
   ]
  },
  {
   "cell_type": "code",
   "execution_count": 17,
   "metadata": {},
   "outputs": [
    {
     "name": "stdout",
     "output_type": "stream",
     "text": [
      "count    7238.000000\n",
      "mean        2.876762\n",
      "std         1.355956\n",
      "min         1.000000\n",
      "25%         2.000000\n",
      "50%         3.000000\n",
      "75%         4.000000\n",
      "max        18.000000\n",
      "Name: author_name, dtype: float64\n",
      "2.8768996960486324\n"
     ]
    }
   ],
   "source": [
    "# nombre d'auteurs par article - avec 1 auteur = 1 nom unique\n",
    "print(df_q1.groupby('paper_id')['author_name'].nunique().describe())\n",
    "# comparaison avec author_id : très légère différence sur la moyenne mais autrement même distribution\n",
    "print(df_q1.groupby('paper_id')['author_id'].nunique().mean())"
   ]
  },
  {
   "cell_type": "code",
   "execution_count": 19,
   "metadata": {},
   "outputs": [
    {
     "name": "stdout",
     "output_type": "stream",
     "text": [
      "paper_id\n",
      "2889    18\n",
      "7152    15\n",
      "6771    13\n",
      "4687    12\n",
      "4016    12\n",
      "Name: author_name, dtype: int64\n"
     ]
    },
    {
     "data": {
      "text/html": [
       "<div>\n",
       "<style scoped>\n",
       "    .dataframe tbody tr th:only-of-type {\n",
       "        vertical-align: middle;\n",
       "    }\n",
       "\n",
       "    .dataframe tbody tr th {\n",
       "        vertical-align: top;\n",
       "    }\n",
       "\n",
       "    .dataframe thead th {\n",
       "        text-align: right;\n",
       "    }\n",
       "</style>\n",
       "<table border=\"1\" class=\"dataframe\">\n",
       "  <thead>\n",
       "    <tr style=\"text-align: right;\">\n",
       "      <th></th>\n",
       "      <th>id</th>\n",
       "      <th>year</th>\n",
       "      <th>title</th>\n",
       "      <th>event_type</th>\n",
       "      <th>pdf_name</th>\n",
       "      <th>abstract</th>\n",
       "      <th>paper_text</th>\n",
       "    </tr>\n",
       "  </thead>\n",
       "  <tbody>\n",
       "    <tr>\n",
       "      <th>2079</th>\n",
       "      <td>2889</td>\n",
       "      <td>2005</td>\n",
       "      <td>AER Building Blocks for Multi-Layer Multi-Chip...</td>\n",
       "      <td>NaN</td>\n",
       "      <td>2889-aer-building-blocks-for-multi-layer-multi...</td>\n",
       "      <td>Abstract Missing</td>\n",
       "      <td>AER Building Blocks for Multi-Layer Multi-Chip...</td>\n",
       "    </tr>\n",
       "  </tbody>\n",
       "</table>\n",
       "</div>"
      ],
      "text/plain": [
       "        id  year                                              title  \\\n",
       "2079  2889  2005  AER Building Blocks for Multi-Layer Multi-Chip...   \n",
       "\n",
       "     event_type                                           pdf_name  \\\n",
       "2079        NaN  2889-aer-building-blocks-for-multi-layer-multi...   \n",
       "\n",
       "              abstract                                         paper_text  \n",
       "2079  Abstract Missing  AER Building Blocks for Multi-Layer Multi-Chip...  "
      ]
     },
     "execution_count": 19,
     "metadata": {},
     "output_type": "execute_result"
    }
   ],
   "source": [
    "# max = 18 auteurs : vérification de l'article\n",
    "print(df_q1.groupby('paper_id')['author_name'].nunique().sort_values(ascending=False).head())\n",
    "df_papers.loc[df_papers['id']==2889]\n",
    "# il y a bien 18 auteurs dans la référence : \n",
    "# https://proceedings.neurips.cc/paper_files/paper/2005/hash/7f018eb7b301a66658931cb8a93fd6e8-Abstract.html"
   ]
  },
  {
   "cell_type": "code",
   "execution_count": 20,
   "metadata": {},
   "outputs": [
    {
     "name": "stdout",
     "output_type": "stream",
     "text": [
      "count    9719.000000\n",
      "mean        2.142401\n",
      "std         3.367320\n",
      "min         1.000000\n",
      "25%         1.000000\n",
      "50%         1.000000\n",
      "75%         2.000000\n",
      "max       101.000000\n",
      "Name: paper_id, dtype: float64\n"
     ]
    }
   ],
   "source": [
    "# Nombre d'articles par auteur\n",
    "print(df_q1.groupby('author_name')['paper_id'].nunique().describe())"
   ]
  },
  {
   "cell_type": "code",
   "execution_count": 21,
   "metadata": {},
   "outputs": [
    {
     "data": {
      "text/plain": [
       "count    9784.000000\n",
       "mean        2.128271\n",
       "std         3.242838\n",
       "min         1.000000\n",
       "25%         1.000000\n",
       "50%         1.000000\n",
       "75%         2.000000\n",
       "max        79.000000\n",
       "Name: paper_id, dtype: float64"
      ]
     },
     "execution_count": 21,
     "metadata": {},
     "output_type": "execute_result"
    }
   ],
   "source": [
    "# comparaison vs par identifiant auteur\n",
    "df_q1.groupby('author_id')['paper_id'].nunique().describe()"
   ]
  },
  {
   "cell_type": "code",
   "execution_count": 22,
   "metadata": {},
   "outputs": [
    {
     "data": {
      "text/plain": [
       "author_name\n",
       "Michael I. Jordan     101\n",
       "Bernhard Sch?lkopf     62\n",
       "Yoshua Bengio          60\n",
       "Geoffrey E. Hinton     58\n",
       "Zoubin Ghahramani      51\n",
       "Name: paper_id, dtype: int64"
      ]
     },
     "execution_count": 22,
     "metadata": {},
     "output_type": "execute_result"
    }
   ],
   "source": [
    "# Top des auteurs les plus représentés dans la base\n",
    "df_q1.groupby('author_name')['paper_id'].nunique().sort_values(ascending=False).head()"
   ]
  },
  {
   "cell_type": "markdown",
   "metadata": {},
   "source": [
    "#### 1.2 Préparation des données"
   ]
  },
  {
   "cell_type": "code",
   "execution_count": 24,
   "metadata": {},
   "outputs": [
    {
     "data": {
      "text/html": [
       "<div>\n",
       "<style scoped>\n",
       "    .dataframe tbody tr th:only-of-type {\n",
       "        vertical-align: middle;\n",
       "    }\n",
       "\n",
       "    .dataframe tbody tr th {\n",
       "        vertical-align: top;\n",
       "    }\n",
       "\n",
       "    .dataframe thead th {\n",
       "        text-align: right;\n",
       "    }\n",
       "</style>\n",
       "<table border=\"1\" class=\"dataframe\">\n",
       "  <thead>\n",
       "    <tr style=\"text-align: right;\">\n",
       "      <th></th>\n",
       "      <th>author_1</th>\n",
       "      <th>author_2</th>\n",
       "      <th>weight</th>\n",
       "    </tr>\n",
       "  </thead>\n",
       "  <tbody>\n",
       "    <tr>\n",
       "      <th>0</th>\n",
       "      <td>Inderjit S. Dhillon</td>\n",
       "      <td>Pradeep K. Ravikumar</td>\n",
       "      <td>18</td>\n",
       "    </tr>\n",
       "    <tr>\n",
       "      <th>1</th>\n",
       "      <td>Alex J. Smola</td>\n",
       "      <td>Bernhard Sch?lkopf</td>\n",
       "      <td>12</td>\n",
       "    </tr>\n",
       "    <tr>\n",
       "      <th>2</th>\n",
       "      <td>Ralf Herbrich</td>\n",
       "      <td>Thore Graepel</td>\n",
       "      <td>11</td>\n",
       "    </tr>\n",
       "    <tr>\n",
       "      <th>3</th>\n",
       "      <td>Corinna Cortes</td>\n",
       "      <td>Mehryar Mohri</td>\n",
       "      <td>11</td>\n",
       "    </tr>\n",
       "    <tr>\n",
       "      <th>4</th>\n",
       "      <td>Martin J. Wainwright</td>\n",
       "      <td>Michael I. Jordan</td>\n",
       "      <td>11</td>\n",
       "    </tr>\n",
       "  </tbody>\n",
       "</table>\n",
       "</div>"
      ],
      "text/plain": [
       "               author_1              author_2  weight\n",
       "0   Inderjit S. Dhillon  Pradeep K. Ravikumar      18\n",
       "1         Alex J. Smola    Bernhard Sch?lkopf      12\n",
       "2         Ralf Herbrich         Thore Graepel      11\n",
       "3        Corinna Cortes         Mehryar Mohri      11\n",
       "4  Martin J. Wainwright     Michael I. Jordan      11"
      ]
     },
     "execution_count": 24,
     "metadata": {},
     "output_type": "execute_result"
    }
   ],
   "source": [
    "# format 1 ligne = 1 association auteur 1 - auteur 2\n",
    "\n",
    "df_q1_graph = (df_q1\n",
    "               # jointure sur l'id article pour créer une 2e colonne auteur 2\n",
    "               .merge(df_q1[['author_name', 'paper_id']], on='paper_id', how='inner')\n",
    "               .rename(columns={'author_name_x':'author_1', 'author_name_y':'author_2'})\n",
    "               # suppression des lignes pour lesquelles auteur 1 = auteur 2 (pas de lien à comptabiliser)\n",
    "               .loc[lambda df: df['author_1'] != df['author_2']]\n",
    "               .reset_index(drop=True)\n",
    "               # suppression des paires symétriques (ie Y-X vs X-Y), par ordre alphabétique\n",
    "               .loc[lambda df: df['author_1'] < df['author_2']]\n",
    "               .reset_index(drop=True)\n",
    "              )\n",
    "\n",
    "# assignation d'un poids à chaque paire = nombre d'articles co-publiés\n",
    "df_q1_graph = (df_q1_graph\n",
    "               .groupby(['author_1', 'author_2'])['paper_id'].nunique()\n",
    "               .sort_values(ascending=False)\n",
    "               .reset_index()\n",
    "               .rename(columns={'paper_id':'weight'})\n",
    "              )\n",
    "\n",
    "df_q1_graph.head()"
   ]
  },
  {
   "cell_type": "code",
   "execution_count": 25,
   "metadata": {},
   "outputs": [
    {
     "data": {
      "text/plain": [
       "count    22145.000000\n",
       "mean         1.182750\n",
       "std          0.619609\n",
       "min          1.000000\n",
       "25%          1.000000\n",
       "50%          1.000000\n",
       "75%          1.000000\n",
       "max         18.000000\n",
       "Name: weight, dtype: float64"
      ]
     },
     "execution_count": 25,
     "metadata": {},
     "output_type": "execute_result"
    }
   ],
   "source": [
    "df_q1_graph['weight'].describe()\n",
    "# environ 22k lignes, en majorité des poids = 1"
   ]
  },
  {
   "cell_type": "code",
   "execution_count": 29,
   "metadata": {},
   "outputs": [
    {
     "name": "stdout",
     "output_type": "stream",
     "text": [
      "Nombre de paires apparaissant plus d'une fois : 2697\n",
      "Nombre de paires apparaissant plus de deux fois : 776\n",
      "Nombre de paires apparaissant plus de trois fois : 291\n"
     ]
    }
   ],
   "source": [
    "print(\"Nombre de paires apparaissant plus d'une fois :\", len(df_q1_graph.loc[lambda df: df['weight']>1])) \n",
    "print(\"Nombre de paires apparaissant plus de deux fois :\", len(df_q1_graph.loc[lambda df: df['weight']>2])) \n",
    "print(\"Nombre de paires apparaissant plus de trois fois :\", len(df_q1_graph.loc[lambda df: df['weight']>3])) "
   ]
  },
  {
   "cell_type": "markdown",
   "metadata": {},
   "source": [
    "#### 1.3. Création et visualisation d'un graphe"
   ]
  },
  {
   "cell_type": "code",
   "execution_count": 35,
   "metadata": {},
   "outputs": [],
   "source": [
    "# Création du graphe sur les paires apparaissant 4 fois ou plus pour faciliter le traitement\n",
    "G_small = nx.from_pandas_edgelist(df=df_q1_graph.loc[lambda df: df['weight']>3], \n",
    "                                  source='author_1', \n",
    "                                  target='author_2', \n",
    "                                  edge_attr='weight')\n",
    "\n",
    "# Note : il sera intéressant d'étudier l'impact du paramètre filtrant sur la création des communautés en partie 1.4"
   ]
  },
  {
   "cell_type": "code",
   "execution_count": 36,
   "metadata": {},
   "outputs": [],
   "source": [
    "# Création d'une palette de couleurs\n",
    "max_n = 10 # max nombre de voisins\n",
    "cmap_neighbors = plt.cm.get_cmap('rainbow', max_n) "
   ]
  },
  {
   "cell_type": "code",
   "execution_count": 37,
   "metadata": {},
   "outputs": [
    {
     "name": "stdout",
     "output_type": "stream",
     "text": [
      "Warning: When  cdn_resources is 'local' jupyter notebook has issues displaying graphics on chrome/safari. Use cdn_resources='in_line' or cdn_resources='remote' if you have issues viewing graphics in a notebook.\n",
      "graphe_auteurs_nips.html\n"
     ]
    },
    {
     "data": {
      "text/html": [
       "\n",
       "        <iframe\n",
       "            width=\"100%\"\n",
       "            height=\"600px\"\n",
       "            src=\"graphe_auteurs_nips.html\"\n",
       "            frameborder=\"0\"\n",
       "            allowfullscreen\n",
       "        ></iframe>\n",
       "        "
      ],
      "text/plain": [
       "<IPython.lib.display.IFrame at 0x180bc996c50>"
      ]
     },
     "execution_count": 37,
     "metadata": {},
     "output_type": "execute_result"
    }
   ],
   "source": [
    "# Visualisation du graphe et mise en évidence des auteurs comptant le plus de liens\n",
    "\n",
    "net = Network(notebook=True)\n",
    "net.show_buttons(filter_=[\"physics\"])\n",
    "\n",
    "for node in G_small.nodes:\n",
    "    # assignation d'une couleur sur le noeud selon le nombre de voisins\n",
    "    n_neighbors = len(list(nx.all_neighbors(G_small, node)))\n",
    "    n_color = matplotlib.colors.rgb2hex(cmap_neighbors(n_neighbors), keep_alpha=True)\n",
    "    net.add_node(node, color=n_color)\n",
    "net.add_edges(G_small.edges)\n",
    "net.show('graphe_auteurs_nips.html')"
   ]
  },
  {
   "cell_type": "code",
   "execution_count": 38,
   "metadata": {},
   "outputs": [
    {
     "data": {
      "text/html": [
       "<div>\n",
       "<style scoped>\n",
       "    .dataframe tbody tr th:only-of-type {\n",
       "        vertical-align: middle;\n",
       "    }\n",
       "\n",
       "    .dataframe tbody tr th {\n",
       "        vertical-align: top;\n",
       "    }\n",
       "\n",
       "    .dataframe thead th {\n",
       "        text-align: right;\n",
       "    }\n",
       "</style>\n",
       "<table border=\"1\" class=\"dataframe\">\n",
       "  <thead>\n",
       "    <tr style=\"text-align: right;\">\n",
       "      <th></th>\n",
       "      <th>author_name</th>\n",
       "      <th>no_voisins</th>\n",
       "    </tr>\n",
       "  </thead>\n",
       "  <tbody>\n",
       "    <tr>\n",
       "      <th>12</th>\n",
       "      <td>Lawrence Carin</td>\n",
       "      <td>10</td>\n",
       "    </tr>\n",
       "    <tr>\n",
       "      <th>2</th>\n",
       "      <td>Alex J. Smola</td>\n",
       "      <td>9</td>\n",
       "    </tr>\n",
       "    <tr>\n",
       "      <th>9</th>\n",
       "      <td>Michael I. Jordan</td>\n",
       "      <td>8</td>\n",
       "    </tr>\n",
       "    <tr>\n",
       "      <th>3</th>\n",
       "      <td>Bernhard Sch?lkopf</td>\n",
       "      <td>8</td>\n",
       "    </tr>\n",
       "    <tr>\n",
       "      <th>0</th>\n",
       "      <td>Inderjit S. Dhillon</td>\n",
       "      <td>7</td>\n",
       "    </tr>\n",
       "    <tr>\n",
       "      <th>74</th>\n",
       "      <td>Terrence J. Sejnowski</td>\n",
       "      <td>7</td>\n",
       "    </tr>\n",
       "    <tr>\n",
       "      <th>25</th>\n",
       "      <td>Klaus-Robert M?ller</td>\n",
       "      <td>6</td>\n",
       "    </tr>\n",
       "    <tr>\n",
       "      <th>15</th>\n",
       "      <td>Arthur Gretton</td>\n",
       "      <td>6</td>\n",
       "    </tr>\n",
       "    <tr>\n",
       "      <th>8</th>\n",
       "      <td>Martin J. Wainwright</td>\n",
       "      <td>6</td>\n",
       "    </tr>\n",
       "    <tr>\n",
       "      <th>21</th>\n",
       "      <td>Yoshua Bengio</td>\n",
       "      <td>6</td>\n",
       "    </tr>\n",
       "  </tbody>\n",
       "</table>\n",
       "</div>"
      ],
      "text/plain": [
       "              author_name  no_voisins\n",
       "12         Lawrence Carin          10\n",
       "2           Alex J. Smola           9\n",
       "9       Michael I. Jordan           8\n",
       "3      Bernhard Sch?lkopf           8\n",
       "0     Inderjit S. Dhillon           7\n",
       "74  Terrence J. Sejnowski           7\n",
       "25    Klaus-Robert M?ller           6\n",
       "15         Arthur Gretton           6\n",
       "8    Martin J. Wainwright           6\n",
       "21          Yoshua Bengio           6"
      ]
     },
     "execution_count": 38,
     "metadata": {},
     "output_type": "execute_result"
    }
   ],
   "source": [
    "# liste des auteurs comptant le plus de voisins (avec 4 articles partagés ou plus)\n",
    "top_auteurs_voisins = pd.DataFrame.from_dict({node: len(list(nx.all_neighbors(G_small, node))) for node in G_small.nodes}, \n",
    "                                             orient='index').reset_index()\n",
    "top_auteurs_voisins.columns = ['author_name', 'no_voisins']\n",
    "top_auteurs_voisins = top_auteurs_voisins.sort_values(by='no_voisins', ascending=False).head(10)\n",
    "top_auteurs_voisins"
   ]
  },
  {
   "cell_type": "markdown",
   "metadata": {},
   "source": [
    "#### 1.4. Détection de communautés"
   ]
  },
  {
   "cell_type": "code",
   "execution_count": null,
   "metadata": {},
   "outputs": [],
   "source": [
    "# Références utilisées : \n",
    "# https://networkx.org/documentation/stable/auto_examples/algorithms/plot_girvan_newman.html\n",
    "# https://memgraph.com/blog/community-detection-algorithms-with-python-networkx"
   ]
  },
  {
   "cell_type": "code",
   "execution_count": 42,
   "metadata": {},
   "outputs": [
    {
     "name": "stdout",
     "output_type": "stream",
     "text": [
      "107 communautés détectées\n"
     ]
    }
   ],
   "source": [
    "# Création des communautés avec l'algorithme de Girvan-Newman\n",
    "\n",
    "communities = girvan_newman(G_small)\n",
    "# note : d'autres algorithmes seraient à tester mais nécessitent davantage de retraitements sur le format des noeuds (id + label)\n",
    "# exemple : Louvain, label propagation, k cliques\n",
    "\n",
    "# Mise au format liste des dictionnaires obtenus\n",
    "node_groups = []\n",
    "for com in next(communities):\n",
    "  node_groups.append(list(com))\n",
    "\n",
    "communities_list = list(communities)\n",
    "\n",
    "print(len(node_groups), \"communautés détectées\")"
   ]
  },
  {
   "cell_type": "code",
   "execution_count": 43,
   "metadata": {},
   "outputs": [
    {
     "name": "stdout",
     "output_type": "stream",
     "text": [
      "Warning: When  cdn_resources is 'local' jupyter notebook has issues displaying graphics on chrome/safari. Use cdn_resources='in_line' or cdn_resources='remote' if you have issues viewing graphics in a notebook.\n",
      "graphe_auteurs_nips_communautes.html\n"
     ]
    },
    {
     "data": {
      "text/html": [
       "\n",
       "        <iframe\n",
       "            width=\"100%\"\n",
       "            height=\"600px\"\n",
       "            src=\"graphe_auteurs_nips_communautes.html\"\n",
       "            frameborder=\"0\"\n",
       "            allowfullscreen\n",
       "        ></iframe>\n",
       "        "
      ],
      "text/plain": [
       "<IPython.lib.display.IFrame at 0x180bcb98b00>"
      ]
     },
     "execution_count": 43,
     "metadata": {},
     "output_type": "execute_result"
    }
   ],
   "source": [
    "# Visualisation\n",
    "\n",
    "net = Network(notebook=True)\n",
    "net.show_buttons(filter_=[\"physics\"])\n",
    "\n",
    "# exemple pour 4 communautés\n",
    "\n",
    "for node in G_small.nodes:\n",
    "    # assignation d'une couleur sur le noeud selon la communauté\n",
    "    if node in node_groups[0]:\n",
    "        c_color = 'red'\n",
    "    elif node in node_groups[1]: \n",
    "        c_color = 'orange' \n",
    "    elif node in node_groups[2]:\n",
    "        c_color = 'yellow'\n",
    "    else:\n",
    "        c_color = 'purple'\n",
    "    net.add_node(node, color=c_color)\n",
    "net.add_edges(G_small.edges)\n",
    "net.show('graphe_auteurs_nips_communautes.html')"
   ]
  },
  {
   "cell_type": "code",
   "execution_count": 44,
   "metadata": {},
   "outputs": [
    {
     "name": "stderr",
     "output_type": "stream",
     "text": [
      "C:\\Users\\Coline\\Anaconda3.1\\lib\\site-packages\\networkx\\drawing\\nx_pylab.py:611: MatplotlibDeprecationWarning: isinstance(..., numbers.Number)\n",
      "  if cb.is_numlike(alpha):\n"
     ]
    },
    {
     "data": {
      "image/png": "[encoded data removed]",
      "text/plain": [
       "<Figure size 2160x2160 with 1 Axes>"
      ]
     },
     "metadata": {},
     "output_type": "display_data"
    }
   ],
   "source": [
    "### version matplotlib\n",
    "fig = plt.figure(figsize=(30, 30))\n",
    "\n",
    "# exemple pour 4 communautés\n",
    "color_map = []\n",
    "for node in G_small:\n",
    "    if node in node_groups[0]:\n",
    "        color_map.append('red')\n",
    "    elif node in node_groups[1]: \n",
    "        color_map.append('orange') \n",
    "    elif node in node_groups[2]:\n",
    "        color_map.append('yellow')\n",
    "    else:\n",
    "        color_map.append('purple')\n",
    "           \n",
    "# labelliser les auteurs comptant le plus de voisins\n",
    "labels = {\n",
    "    node: (node if node in top_auteurs_voisins['author_name'].unique()\n",
    "        else '')\n",
    "    for node in G_small.nodes\n",
    "}        \n",
    "\n",
    "nx.draw(G_small, \n",
    "        width=list(nx.get_edge_attributes(G_small, 'weight').values())*10, \n",
    "        node_color=color_map, \n",
    "        with_labels=True, \n",
    "        labels=labels)\n",
    "\n",
    "plt.savefig(os.path.join(local_path, '2_Results', 'graph_communities.png'), dpi=1000)\n",
    "\n",
    "plt.show()"
   ]
  },
  {
   "cell_type": "code",
   "execution_count": 45,
   "metadata": {},
   "outputs": [
    {
     "data": {
      "image/png": "[encoded data removed]",
      "text/plain": [
       "<Figure size 1800x1080 with 1 Axes>"
      ]
     },
     "metadata": {
      "needs_background": "light"
     },
     "output_type": "display_data"
    }
   ],
   "source": [
    "# Evolution de la modularité à mesure que l'on retire les arêtes importantes \n",
    "\n",
    "# Modularité -> mesure de la force de division d'un graphe\n",
    "modularity_df = pd.DataFrame(\n",
    "    [[k + 1, nx.community.modularity(G_small, communities_list[k])]\n",
    "        for k in range(len(communities_list))],\n",
    "    columns=[\"k\", \"modularity\"],\n",
    ")\n",
    "\n",
    "fig = plt.figure(figsize=(25, 15))\n",
    "\n",
    "plt.bar(data=modularity_df,\n",
    "        x=\"k\",\n",
    "        height=\"modularity\")\n",
    "plt.title(\"Modularity Trend for Girvan-Newman Community Detection\")\n",
    "plt.xlabel('k')\n",
    "plt.ylabel('modularity')\n",
    "\n",
    "plt.savefig(os.path.join(local_path, '2_Results', 'graph_modularity.png'), dpi=1000)\n",
    "\n",
    "plt.show()\n",
    "# la modularité apparait maximisée à k=2 communautés"
   ]
  },
  {
   "cell_type": "markdown",
   "metadata": {},
   "source": [
    "# Question 2. Autres visualisations du dataset"
   ]
  },
  {
   "cell_type": "markdown",
   "metadata": {},
   "source": [
    "Propositions : \n",
    "- clustering des articles\n",
    "- clustering des auteurs\n",
    "- détection de thèmes dans le corpus (nuage de mots, LDA...)"
   ]
  }
 ],
 "metadata": {
  "kernelspec": {
   "display_name": "Python 3",
   "language": "python",
   "name": "python3"
  },
  "language_info": {
   "codemirror_mode": {
    "name": "ipython",
    "version": 3
   },
   "file_extension": ".py",
   "mimetype": "text/x-python",
   "name": "python",
   "nbconvert_exporter": "python",
   "pygments_lexer": "ipython3",
   "version": "3.7.3"
  }
 },
 "nbformat": 4,
 "nbformat_minor": 2
}
